{
 "cells": [
  {
   "cell_type": "code",
   "execution_count": 2,
   "id": "2bab49cd",
   "metadata": {},
   "outputs": [],
   "source": [
    "import csv"
   ]
  },
  {
   "cell_type": "code",
   "execution_count": 3,
   "id": "e3fa648d",
   "metadata": {},
   "outputs": [],
   "source": [
    "\n",
    "text_file = 'serial_data.txt'\n",
    "csv_file = 'serial_data.csv'\n",
    "\n",
    "# Open the text file for reading\n",
    "with open(text_file, 'r') as file:\n",
    "    lines = file.readlines()\n",
    "\n",
    "# Prepare the CSV file for writing\n",
    "with open(csv_file, 'w', newline='') as file:\n",
    "    writer = csv.writer(file)\n",
    "\n",
    "    # Write the header row\n",
    "    writer.writerow(['Timestamp', 'Load_cell_output', 'Roll', 'Pitch', 'Distance1', 'Distance2'])\n",
    "\n",
    "    # Process the lines in the text file\n",
    "    timestamp = None\n",
    "    load_cell_output = None\n",
    "    roll = None\n",
    "    pitch = None\n",
    "    distance1 = None\n",
    "    distance2 = None\n",
    "\n",
    "    for line in lines:\n",
    "        line = line.strip()\n",
    "\n",
    "        if line.startswith('Timestamp:'):\n",
    "            timestamp = line.split(':')[1].strip()\n",
    "        elif line.startswith('Load_cell output:'):\n",
    "            load_cell_output = line.split(':')[1].strip()\n",
    "        elif line.startswith('Roll:') and line.__contains__('Pitch:'):\n",
    "            roll, pitch = line.split('Pitch:')\n",
    "            roll = roll.split(':')[1].strip()\n",
    "            pitch = pitch.strip()\n",
    "        elif line.startswith('Distance 1:') and line.__contains__('Distance 2:'):\n",
    "            distance1, distance2 = line.split('Distance 2:')\n",
    "            distance1 = distance1.split(':')[1].strip()\n",
    "            distance2 = distance2.strip()\n",
    "\n",
    "        if line.startswith('======================================='):\n",
    "            # Write the extracted data to the CSV file\n",
    "            writer.writerow([timestamp, load_cell_output, roll, pitch, distance1, distance2])\n",
    "\n",
    "            # Reset the variables for the next data set\n",
    "            timestamp = None\n",
    "            load_cell_output = None\n",
    "            roll = None\n",
    "            pitch = None\n",
    "            distance1 = None\n",
    "            distance2 = None"
   ]
  },
  {
   "cell_type": "code",
   "execution_count": null,
   "id": "ad7aab73",
   "metadata": {},
   "outputs": [],
   "source": []
  }
 ],
 "metadata": {
  "kernelspec": {
   "display_name": "Python 3 (ipykernel)",
   "language": "python",
   "name": "python3"
  },
  "language_info": {
   "codemirror_mode": {
    "name": "ipython",
    "version": 3
   },
   "file_extension": ".py",
   "mimetype": "text/x-python",
   "name": "python",
   "nbconvert_exporter": "python",
   "pygments_lexer": "ipython3",
   "version": "3.11.5"
  }
 },
 "nbformat": 4,
 "nbformat_minor": 5
}
