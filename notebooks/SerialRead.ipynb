{
 "cells": [
  {
   "cell_type": "code",
   "execution_count": 1,
   "id": "417ddea0",
   "metadata": {},
   "outputs": [],
   "source": [
    "import serial\n",
    "import serial.tools.list_ports"
   ]
  },
  {
   "cell_type": "code",
   "execution_count": 2,
   "id": "a3a59032",
   "metadata": {},
   "outputs": [],
   "source": [
    "import serial\n",
    "import serial.tools.list_ports\n",
    "\n",
    "def get_available_ports():\n",
    "    ports = serial.tools.list_ports.comports()\n",
    "    available_ports = []\n",
    "\n",
    "    for port in ports:\n",
    "        available_ports.append(port.device)\n",
    "\n",
    "    return available_ports\n",
    "\n",
    "def read_serial_data(port, baud_rate):\n",
    "    ser = serial.Serial(port, baud_rate)\n",
    "    filename = \"serial_data.txt\"\n",
    "\n",
    "    with open(filename, \"a\") as file:\n",
    "        while True:\n",
    "            try:\n",
    "                data = ser.read().decode()\n",
    "                file.write(data)\n",
    "                file.flush()\n",
    "            except:\n",
    "                print(\"Cannot read serial anymore...\")\n",
    "                break\n",
    "    ser.close()"
   ]
  },
  {
   "cell_type": "code",
   "execution_count": 3,
   "id": "e833eaf6",
   "metadata": {},
   "outputs": [
    {
     "name": "stdout",
     "output_type": "stream",
     "text": [
      "Enter the baud rate: 115200\n",
      "Available serial ports:\n",
      "1. /dev/cu.wlan-debug\n",
      "2. /dev/cu.JBLTUNE215BT\n",
      "3. /dev/cu.Bluetooth-Incoming-Port\n",
      "4. /dev/cu.usbserial-0001\n",
      "Enter the number corresponding to the desired serial port: 4\n",
      "Cannot read serial anymore...\n"
     ]
    }
   ],
   "source": [
    "baud_rate = int(input(\"Enter the baud rate: \"))\n",
    "\n",
    "available_ports = get_available_ports()\n",
    "if not available_ports:\n",
    "    print(\"No serial ports detected.\")\n",
    "else:\n",
    "    print(\"Available serial ports:\")\n",
    "    for i, port in enumerate(available_ports):\n",
    "        print(f\"{i+1}. {port}\")\n",
    "\n",
    "    port_selection = int(input(\"Enter the number corresponding to the desired serial port: \"))\n",
    "\n",
    "    if port_selection < 1 or port_selection > len(available_ports):\n",
    "        print(\"Invalid selection.\")\n",
    "    else:\n",
    "        selected_port = available_ports[port_selection - 1]\n",
    "        read_serial_data(selected_port, baud_rate)"
   ]
  },
  {
   "cell_type": "code",
   "execution_count": null,
   "id": "c3e8563c",
   "metadata": {},
   "outputs": [],
   "source": []
  }
 ],
 "metadata": {
  "kernelspec": {
   "display_name": "Python 3 (ipykernel)",
   "language": "python",
   "name": "python3"
  },
  "language_info": {
   "codemirror_mode": {
    "name": "ipython",
    "version": 3
   },
   "file_extension": ".py",
   "mimetype": "text/x-python",
   "name": "python",
   "nbconvert_exporter": "python",
   "pygments_lexer": "ipython3",
   "version": "3.11.5"
  }
 },
 "nbformat": 4,
 "nbformat_minor": 5
}
